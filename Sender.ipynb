{
 "cells": [
  {
   "cell_type": "code",
   "execution_count": 9,
   "id": "c878b60e",
   "metadata": {},
   "outputs": [],
   "source": [
    "import pywhatkit\n",
    "from datetime import datetime\n",
    "import pandas as pd\n",
    "import numpy as np"
   ]
  },
  {
   "cell_type": "code",
   "execution_count": 10,
   "id": "c5da4c11",
   "metadata": {},
   "outputs": [],
   "source": [
    "# dic={\n",
    "#     'ph no':['919804418408','916290103455'],\n",
    "#     'name':['Baba','Arghya']\n",
    "# }"
   ]
  },
  {
   "cell_type": "code",
   "execution_count": 11,
   "id": "e06c41a8",
   "metadata": {},
   "outputs": [],
   "source": [
    "# listItems=pd.DataFrame(dic)"
   ]
  },
  {
   "cell_type": "code",
   "execution_count": 12,
   "id": "da0a1244",
   "metadata": {},
   "outputs": [],
   "source": [
    "# listItems.to_csv('contacts.csv')"
   ]
  },
  {
   "cell_type": "code",
   "execution_count": 13,
   "id": "27873e7d",
   "metadata": {},
   "outputs": [],
   "source": [
    "fd=pd.read_csv('contacts.csv')"
   ]
  },
  {
   "cell_type": "code",
   "execution_count": 15,
   "id": "a89655b1",
   "metadata": {},
   "outputs": [
    {
     "name": "stdout",
     "output_type": "stream",
     "text": [
      "Enter the masg to send:Soory to everyone.. Previous one send by python experimentally \n",
      "In 43 Seconds WhatsApp will open and after 15 Seconds Message will be Delivered!\n",
      "In 45 Seconds WhatsApp will open and after 15 Seconds Message will be Delivered!\n",
      "In 45 Seconds WhatsApp will open and after 15 Seconds Message will be Delivered!\n",
      "In 44 Seconds WhatsApp will open and after 15 Seconds Message will be Delivered!\n",
      "All done\n"
     ]
    }
   ],
   "source": [
    "def addTime(hr,mint):\n",
    "    mint +=1\n",
    "    if mint >=60:\n",
    "        mint=(mint%60)\n",
    "        if hr<24:\n",
    "            hr +=1\n",
    "        else:\n",
    "            hr=1\n",
    "    return hr,mint\n",
    "masg=input(\"Enter the masg to send:\")\n",
    "for i in fd['ph no']:\n",
    "    time=datetime.now()\n",
    "    hr=time.hour\n",
    "    mint=time.minute\n",
    "    hr,mint=addTime(hr,mint)\n",
    "    pywhatkit.sendwhatmsg(i,masg,hr,mint)\n",
    "print(\"All done\")\n",
    "    \n",
    "    "
   ]
  },
  {
   "cell_type": "code",
   "execution_count": null,
   "id": "553d054c",
   "metadata": {},
   "outputs": [],
   "source": []
  },
  {
   "cell_type": "code",
   "execution_count": null,
   "id": "59f79bd9",
   "metadata": {},
   "outputs": [],
   "source": []
  }
 ],
 "metadata": {
  "kernelspec": {
   "display_name": "Python 3 (ipykernel)",
   "language": "python",
   "name": "python3"
  },
  "language_info": {
   "codemirror_mode": {
    "name": "ipython",
    "version": 3
   },
   "file_extension": ".py",
   "mimetype": "text/x-python",
   "name": "python",
   "nbconvert_exporter": "python",
   "pygments_lexer": "ipython3",
   "version": "3.10.4"
  }
 },
 "nbformat": 4,
 "nbformat_minor": 5
}
